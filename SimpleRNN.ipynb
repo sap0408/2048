{
  "nbformat": 4,
  "nbformat_minor": 0,
  "metadata": {
    "colab": {
      "name": "SimpleRNN.ipynb",
      "provenance": [],
      "authorship_tag": "ABX9TyN5DwONa5NtYuzbwvJxQHOI",
      "include_colab_link": true
    },
    "kernelspec": {
      "name": "python3",
      "display_name": "Python 3"
    }
  },
  "cells": [
    {
      "cell_type": "markdown",
      "metadata": {
        "id": "view-in-github",
        "colab_type": "text"
      },
      "source": [
        "<a href=\"https://colab.research.google.com/github/sap0408/2048/blob/master/SimpleRNN.ipynb\" target=\"_parent\"><img src=\"https://colab.research.google.com/assets/colab-badge.svg\" alt=\"Open In Colab\"/></a>"
      ]
    },
    {
      "cell_type": "code",
      "metadata": {
        "id": "uspdSMQxR_18",
        "colab_type": "code",
        "colab": {
          "base_uri": "https://localhost:8080/",
          "height": 34
        },
        "outputId": "75e8f26e-18a8-4531-daef-36f0f52ccfcf"
      },
      "source": [
        "import warnings\n",
        "warnings.filterwarnings(\"ignore\")\n",
        "import keras\n",
        "keras.__version__"
      ],
      "execution_count": 1,
      "outputs": [
        {
          "output_type": "execute_result",
          "data": {
            "text/plain": [
              "'2.3.1'"
            ]
          },
          "metadata": {
            "tags": []
          },
          "execution_count": 1
        }
      ]
    },
    {
      "cell_type": "code",
      "metadata": {
        "id": "pLDLIIg-XGeh",
        "colab_type": "code",
        "colab": {
          "base_uri": "https://localhost:8080/",
          "height": 187
        },
        "outputId": "cf09f02c-48a4-4161-c503-d98c9e98b208"
      },
      "source": [
        "import numpy as np\n",
        "\n",
        "# Número de pasos de tiempo en la secuencia de entrada\n",
        "timesteps = 5\n",
        "\n",
        "# Dimensionalidad de la secuencia de entrada.\n",
        "input_features = 3\n",
        "\n",
        "# Dimensionalidad del espacio de características de salida\n",
        "output_features = 1\n",
        "\n",
        "# Datos de entrada: aleatorio \n",
        "inputs = np.random.random((timesteps, input_features))\n",
        "print('\\nEntradas:\\n'+str(inputs))\n",
        "\n",
        "# Estado oculto inicial: un vector todo cero\n",
        "state_t = np.zeros((output_features,))\n",
        "\n",
        "# Crea matrices de pesos aleatorias\n",
        "W = np.random.random((output_features, input_features))\n",
        "U = np.random.random((output_features, output_features))\n",
        "b = np.random.random((output_features,))\n",
        "\n",
        "successive_outputs = []\n",
        "\n",
        "print('\\n%%%%%%%%%%%%%%%%%%%%%%%%%%%%%%%%%\\n')"
      ],
      "execution_count": 2,
      "outputs": [
        {
          "output_type": "stream",
          "text": [
            "\n",
            "Entradas:\n",
            "[[7.32325265e-01 5.68420504e-04 7.00060108e-01]\n",
            " [1.46371323e-02 6.24447139e-01 6.25516817e-01]\n",
            " [3.55373293e-01 1.33792875e-01 4.88289044e-01]\n",
            " [3.40293574e-01 8.11193856e-01 7.81342363e-01]\n",
            " [4.12455007e-01 3.67300796e-01 9.99460570e-01]]\n",
            "\n",
            "%%%%%%%%%%%%%%%%%%%%%%%%%%%%%%%%%\n",
            "\n"
          ],
          "name": "stdout"
        }
      ]
    },
    {
      "cell_type": "code",
      "metadata": {
        "id": "YReVf2ZvX5vU",
        "colab_type": "code",
        "colab": {
          "base_uri": "https://localhost:8080/",
          "height": 816
        },
        "outputId": "4cee1972-885f-45e7-9dcc-a31881618f64"
      },
      "source": [
        "# Procesa entradas\n",
        "for input_t in inputs:\n",
        "    print('Entrada:'+str(input_t))\n",
        "    print('W:'+str(W))\n",
        "    print('Estado oculto:'+str(state_t))\n",
        "    print('U:'+str(U))\n",
        "    print('b:'+str(b))\n",
        "        \n",
        "    # Combina la entrada con el estado actual para obtener la salida actual\n",
        "    output_t = np.tanh(np.dot(W, input_t) + np.dot(U, state_t) + b)\n",
        "    \n",
        "    print('Salida:'+str(output_t))\n",
        "    \n",
        "    # Almacena esta salida en una lista\n",
        "    successive_outputs.append(output_t)\n",
        "    \n",
        "    # Actualiza el estado de la red para el siguiente paso de tiempo\n",
        "    state_t = output_t\n",
        "    print('\\n********************************\\n')\n",
        "# La salida final es un tensor de forma 2D (pasos de tiempo, características de salida)\n",
        "final_output_sequence = np.concatenate(successive_outputs, axis=0)\n",
        "print('Salidas:')\n",
        "print(final_output_sequence)"
      ],
      "execution_count": 3,
      "outputs": [
        {
          "output_type": "stream",
          "text": [
            "Entrada:[7.32325265e-01 5.68420504e-04 7.00060108e-01]\n",
            "W:[[0.90869234 0.59263329 0.6801661 ]]\n",
            "Estado oculto:[0.]\n",
            "U:[[0.9669038]]\n",
            "b:[0.99255406]\n",
            "Salida:[0.97239516]\n",
            "\n",
            "********************************\n",
            "\n",
            "Entrada:[0.01463713 0.62444714 0.62551682]\n",
            "W:[[0.90869234 0.59263329 0.6801661 ]]\n",
            "Estado oculto:[0.97239516]\n",
            "U:[[0.9669038]]\n",
            "b:[0.99255406]\n",
            "Salida:[0.99172223]\n",
            "\n",
            "********************************\n",
            "\n",
            "Entrada:[0.35537329 0.13379288 0.48828904]\n",
            "W:[[0.90869234 0.59263329 0.6801661 ]]\n",
            "Estado oculto:[0.99172223]\n",
            "U:[[0.9669038]]\n",
            "b:[0.99255406]\n",
            "Salida:[0.99074936]\n",
            "\n",
            "********************************\n",
            "\n",
            "Entrada:[0.34029357 0.81119386 0.78134236]\n",
            "W:[[0.90869234 0.59263329 0.6801661 ]]\n",
            "Estado oculto:[0.99074936]\n",
            "U:[[0.9669038]]\n",
            "b:[0.99255406]\n",
            "Salida:[0.99712622]\n",
            "\n",
            "********************************\n",
            "\n",
            "Entrada:[0.41245501 0.3673008  0.99946057]\n",
            "W:[[0.90869234 0.59263329 0.6801661 ]]\n",
            "Estado oculto:[0.99712622]\n",
            "U:[[0.9669038]]\n",
            "b:[0.99255406]\n",
            "Salida:[0.99686873]\n",
            "\n",
            "********************************\n",
            "\n",
            "Salidas:\n",
            "[0.97239516 0.99172223 0.99074936 0.99712622 0.99686873]\n"
          ],
          "name": "stdout"
        }
      ]
    },
    {
      "cell_type": "code",
      "metadata": {
        "id": "DW2M3opsak9E",
        "colab_type": "code",
        "colab": {}
      },
      "source": [
        "from keras.layers import SimpleRNN"
      ],
      "execution_count": 0,
      "outputs": []
    },
    {
      "cell_type": "code",
      "metadata": {
        "id": "MJix2ACcavZZ",
        "colab_type": "code",
        "colab": {
          "base_uri": "https://localhost:8080/",
          "height": 221
        },
        "outputId": "c10d399c-79c5-41ef-c104-5248e385a4f6"
      },
      "source": [
        "from keras.models import Sequential\n",
        "from keras.layers import Embedding, SimpleRNN\n",
        "\n",
        "model = Sequential()\n",
        "model.add(Embedding(10000, 32))\n",
        "model.add(SimpleRNN(32))\n",
        "model.summary()"
      ],
      "execution_count": 5,
      "outputs": [
        {
          "output_type": "stream",
          "text": [
            "Model: \"sequential_1\"\n",
            "_________________________________________________________________\n",
            "Layer (type)                 Output Shape              Param #   \n",
            "=================================================================\n",
            "embedding_1 (Embedding)      (None, None, 32)          320000    \n",
            "_________________________________________________________________\n",
            "simple_rnn_1 (SimpleRNN)     (None, 32)                2080      \n",
            "=================================================================\n",
            "Total params: 322,080\n",
            "Trainable params: 322,080\n",
            "Non-trainable params: 0\n",
            "_________________________________________________________________\n"
          ],
          "name": "stdout"
        }
      ]
    },
    {
      "cell_type": "code",
      "metadata": {
        "id": "fihqgB8VaxNm",
        "colab_type": "code",
        "colab": {
          "base_uri": "https://localhost:8080/",
          "height": 221
        },
        "outputId": "3a19a3c7-6dc4-4449-e1b4-15d98864a87d"
      },
      "source": [
        "model = Sequential()\n",
        "model.add(Embedding(10000, 32))\n",
        "model.add(SimpleRNN(32, return_sequences=True))\n",
        "model.summary()\n",
        "Model: \"sequential_2\""
      ],
      "execution_count": 6,
      "outputs": [
        {
          "output_type": "stream",
          "text": [
            "Model: \"sequential_2\"\n",
            "_________________________________________________________________\n",
            "Layer (type)                 Output Shape              Param #   \n",
            "=================================================================\n",
            "embedding_2 (Embedding)      (None, None, 32)          320000    \n",
            "_________________________________________________________________\n",
            "simple_rnn_2 (SimpleRNN)     (None, None, 32)          2080      \n",
            "=================================================================\n",
            "Total params: 322,080\n",
            "Trainable params: 322,080\n",
            "Non-trainable params: 0\n",
            "_________________________________________________________________\n"
          ],
          "name": "stdout"
        }
      ]
    },
    {
      "cell_type": "code",
      "metadata": {
        "id": "l9ocscFUa1Hi",
        "colab_type": "code",
        "colab": {
          "base_uri": "https://localhost:8080/",
          "height": 323
        },
        "outputId": "1200d537-ef29-4b19-da1d-0eef6b5c3f60"
      },
      "source": [
        "model = Sequential()\n",
        "model.add(Embedding(10000, 32))\n",
        "model.add(SimpleRNN(32, return_sequences=True))\n",
        "model.add(SimpleRNN(32, return_sequences=True))\n",
        "model.add(SimpleRNN(32, return_sequences=True))\n",
        "model.add(SimpleRNN(32))  # Esta última capa solo devuelve las últimas salidas.\n",
        "model.summary()\n",
        "Model: \"sequential_3\""
      ],
      "execution_count": 7,
      "outputs": [
        {
          "output_type": "stream",
          "text": [
            "Model: \"sequential_3\"\n",
            "_________________________________________________________________\n",
            "Layer (type)                 Output Shape              Param #   \n",
            "=================================================================\n",
            "embedding_3 (Embedding)      (None, None, 32)          320000    \n",
            "_________________________________________________________________\n",
            "simple_rnn_3 (SimpleRNN)     (None, None, 32)          2080      \n",
            "_________________________________________________________________\n",
            "simple_rnn_4 (SimpleRNN)     (None, None, 32)          2080      \n",
            "_________________________________________________________________\n",
            "simple_rnn_5 (SimpleRNN)     (None, None, 32)          2080      \n",
            "_________________________________________________________________\n",
            "simple_rnn_6 (SimpleRNN)     (None, 32)                2080      \n",
            "=================================================================\n",
            "Total params: 328,320\n",
            "Trainable params: 328,320\n",
            "Non-trainable params: 0\n",
            "_________________________________________________________________\n"
          ],
          "name": "stdout"
        }
      ]
    },
    {
      "cell_type": "code",
      "metadata": {
        "id": "M6D4pxwea70J",
        "colab_type": "code",
        "colab": {}
      },
      "source": [
        "from keras.datasets import imdb\n",
        "from keras.preprocessing import sequence"
      ],
      "execution_count": 0,
      "outputs": []
    },
    {
      "cell_type": "code",
      "metadata": {
        "id": "s_SRSWZ7bBB5",
        "colab_type": "code",
        "colab": {
          "base_uri": "https://localhost:8080/",
          "height": 153
        },
        "outputId": "bd307544-441c-4a1f-8081-ed00eed80f64"
      },
      "source": [
        "# Cantidad de palabras a considerar como características\n",
        "max_features = 10000  \n",
        "# Cortar textos después de este número de palabras (entre las \n",
        "# principales palabras más comunes de max_features)\n",
        "maxlen = 500  \n",
        "batch_size = 32\n",
        "\n",
        "print('Cargando data...')\n",
        "(input_train, y_train), (input_test, y_test) = imdb.load_data(num_words=max_features)\n",
        "print(len(input_train), ' secuencias de entrenamiento')\n",
        "print(len(input_test), ' secuencias de prueba')\n",
        "\n",
        "print('Ajustando suencias')\n",
        "input_train = sequence.pad_sequences(input_train, maxlen=maxlen)\n",
        "input_test = sequence.pad_sequences(input_test, maxlen=maxlen)\n",
        "print('Train:', input_train.shape)\n",
        "print('Test:', input_test.shape)"
      ],
      "execution_count": 9,
      "outputs": [
        {
          "output_type": "stream",
          "text": [
            "Cargando data...\n",
            "Downloading data from https://s3.amazonaws.com/text-datasets/imdb.npz\n",
            "17465344/17464789 [==============================] - 2s 0us/step\n",
            "25000  secuencias de entrenamiento\n",
            "25000  secuencias de prueba\n",
            "Ajustando suencias\n",
            "Train: (25000, 500)\n",
            "Test: (25000, 500)\n"
          ],
          "name": "stdout"
        }
      ]
    },
    {
      "cell_type": "code",
      "metadata": {
        "id": "ouC53-dsbKGm",
        "colab_type": "code",
        "colab": {
          "base_uri": "https://localhost:8080/",
          "height": 394
        },
        "outputId": "dcc05f99-44ef-40c5-bdad-cf8a9b0f53c8"
      },
      "source": [
        "from keras.layers import Dense\n",
        "\n",
        "model = Sequential()\n",
        "model.add(Embedding(max_features, 32))\n",
        "model.add(SimpleRNN(32))\n",
        "model.add(Dense(1, activation='sigmoid'))\n",
        "\n",
        "model.compile(optimizer='rmsprop', loss='binary_crossentropy', metrics=['acc'])\n",
        "history = model.fit(input_train, y_train,\n",
        "                    epochs=10,\n",
        "                    batch_size=128,\n",
        "                    validation_split=0.2)"
      ],
      "execution_count": 10,
      "outputs": [
        {
          "output_type": "stream",
          "text": [
            "Train on 20000 samples, validate on 5000 samples\n",
            "Epoch 1/10\n",
            "20000/20000 [==============================] - 23s 1ms/step - loss: 0.6431 - acc: 0.6127 - val_loss: 0.4984 - val_acc: 0.7776\n",
            "Epoch 2/10\n",
            "20000/20000 [==============================] - 21s 1ms/step - loss: 0.4144 - acc: 0.8239 - val_loss: 0.3993 - val_acc: 0.8286\n",
            "Epoch 3/10\n",
            "20000/20000 [==============================] - 21s 1ms/step - loss: 0.2955 - acc: 0.8829 - val_loss: 1.1597 - val_acc: 0.5994\n",
            "Epoch 4/10\n",
            "20000/20000 [==============================] - 21s 1ms/step - loss: 0.2358 - acc: 0.9108 - val_loss: 0.3371 - val_acc: 0.8732\n",
            "Epoch 5/10\n",
            "20000/20000 [==============================] - 21s 1ms/step - loss: 0.1659 - acc: 0.9413 - val_loss: 0.3541 - val_acc: 0.8698\n",
            "Epoch 6/10\n",
            "20000/20000 [==============================] - 21s 1ms/step - loss: 0.1188 - acc: 0.9584 - val_loss: 0.5034 - val_acc: 0.8140\n",
            "Epoch 7/10\n",
            "20000/20000 [==============================] - 21s 1ms/step - loss: 0.0844 - acc: 0.9716 - val_loss: 0.4343 - val_acc: 0.8470\n",
            "Epoch 8/10\n",
            "20000/20000 [==============================] - 21s 1ms/step - loss: 0.0499 - acc: 0.9842 - val_loss: 0.6538 - val_acc: 0.7580\n",
            "Epoch 9/10\n",
            "20000/20000 [==============================] - 22s 1ms/step - loss: 0.0355 - acc: 0.9895 - val_loss: 0.6058 - val_acc: 0.8078\n",
            "Epoch 10/10\n",
            "20000/20000 [==============================] - 22s 1ms/step - loss: 0.0237 - acc: 0.9926 - val_loss: 0.5758 - val_acc: 0.8450\n"
          ],
          "name": "stdout"
        }
      ]
    },
    {
      "cell_type": "code",
      "metadata": {
        "id": "-HrqIbC-cJUs",
        "colab_type": "code",
        "colab": {
          "base_uri": "https://localhost:8080/",
          "height": 545
        },
        "outputId": "97552304-4e40-4bd0-c464-b0ee2c9e3bb7"
      },
      "source": [
        "import matplotlib.pyplot as plt\n",
        "\n",
        "acc = history.history['acc']\n",
        "val_acc = history.history['val_acc']\n",
        "loss = history.history['loss']\n",
        "val_loss = history.history['val_loss']\n",
        "\n",
        "epochs = range(len(acc))\n",
        "\n",
        "plt.plot(epochs, acc, 'bo', label='Train acc')\n",
        "plt.plot(epochs, val_acc, 'b', label='Val acc')\n",
        "plt.title('Accuracy de entrenamiento y validacion')\n",
        "plt.legend()\n",
        "\n",
        "plt.figure()\n",
        "\n",
        "plt.plot(epochs, loss, 'bo', label='Train loss')\n",
        "plt.plot(epochs, val_loss, 'b', label='Val loss')\n",
        "plt.title('Loss de entrenamiento y validacion')\n",
        "plt.legend()\n",
        "\n",
        "plt.show()"
      ],
      "execution_count": 11,
      "outputs": [
        {
          "output_type": "display_data",
          "data": {
            "image/png": "[encoded data removed]",
            "text/plain": [
              "<Figure size 432x288 with 1 Axes>"
            ]
          },
          "metadata": {
            "tags": [],
            "needs_background": "light"
          }
        },
        {
          "output_type": "display_data",
          "data": {
            "image/png": "[encoded data removed]",
            "text/plain": [
              "<Figure size 432x288 with 1 Axes>"
            ]
          },
          "metadata": {
            "tags": [],
            "needs_background": "light"
          }
        }
      ]
    }
  ]
}